{
 "cells": [
  {
   "cell_type": "markdown",
   "id": "3982940c",
   "metadata": {},
   "source": [
    "#PYTHON KA CHILLA BY BABA AMMAR\n",
    "\n",
    "##How to use jupyter notebook\n",
    "# Basic of python\n",
    "**01- My First Program**\n"
   ]
  },
  {
   "cell_type": "code",
   "execution_count": 45,
   "id": "41193e64",
   "metadata": {},
   "outputs": [
    {
     "name": "stdout",
     "output_type": "stream",
     "text": [
      "5\n",
      "Hello World\n",
      "We are learning python\n"
     ]
    }
   ],
   "source": [
    "#MY FIRST PROGRAM IN PYTHON\n",
    "print(2+3)\n",
    "print(\"Hello World\")\n",
    "print(\"We are learning python\")"
   ]
  },
  {
   "cell_type": "markdown",
   "id": "c4a608ca",
   "metadata": {},
   "source": [
    "**02- Operators**"
   ]
  },
  {
   "cell_type": "code",
   "execution_count": 46,
   "id": "9d900d02",
   "metadata": {},
   "outputs": [
    {
     "name": "stdout",
     "output_type": "stream",
     "text": [
      "3\n",
      "2\n",
      "3.0\n",
      "6\n",
      "1\n",
      "3\n",
      "8\n",
      "2.4444444444444446\n"
     ]
    }
   ],
   "source": [
    "print(2+1)\n",
    "print(3-1)\n",
    "print(6/2)\n",
    "print(2*3)\n",
    "print(13%2)\n",
    "\n",
    "print(6//2) # getting the value on whole number\n",
    "\n",
    "print(2**3)\n",
    "\n",
    "print(2**3/3**2/2*3/3+6-4)"
   ]
  },
  {
   "cell_type": "markdown",
   "id": "2ffe4744",
   "metadata": {},
   "source": [
    "*PEDMAS\n",
    "Paranthesis Exponent Multiply Divide Addition Subtraction\n",
    "Left To Right Sequence For Multiplication Division Subtraction and Addition*"
   ]
  },
  {
   "cell_type": "markdown",
   "id": "58c0cb2f",
   "metadata": {},
   "source": [
    "**02 - Strings**"
   ]
  },
  {
   "cell_type": "code",
   "execution_count": 47,
   "id": "a0c77f88",
   "metadata": {
    "scrolled": true
   },
   "outputs": [
    {
     "name": "stdout",
     "output_type": "stream",
     "text": [
      "hello world\n",
      "we are learning python with ammar\n",
      "Test for double quote string\n",
      "Test for single quote string\n",
      " test for triple quotes string\n",
      "What's up?\n"
     ]
    }
   ],
   "source": [
    "print(\"hello world\")\n",
    "print(\"we are learning python with ammar\")\n",
    "\n",
    "print(\"Test for double quote string\")\n",
    "print('Test for single quote string')\n",
    "print(''' test for triple quotes string''')\n",
    "\n",
    "print(\"What's up?\")"
   ]
  },
  {
   "cell_type": "markdown",
   "id": "a74f8b29",
   "metadata": {},
   "source": [
    "**02 - Comments**\n",
    "the shortcut key is cntr + /"
   ]
  },
  {
   "cell_type": "code",
   "execution_count": 48,
   "id": "207e042d",
   "metadata": {},
   "outputs": [
    {
     "name": "stdout",
     "output_type": "stream",
     "text": [
      "5\n",
      "hello world\n",
      "we are learning python with ammar\n"
     ]
    }
   ],
   "source": [
    "print(2+3)\n",
    "print(\"hello world\")\n",
    "print(\"we are learning python with ammar\")"
   ]
  },
  {
   "cell_type": "markdown",
   "id": "45d666c9",
   "metadata": {},
   "source": [
    "**4 - Variables**"
   ]
  },
  {
   "cell_type": "code",
   "execution_count": 49,
   "id": "46e37e82",
   "metadata": {},
   "outputs": [
    {
     "name": "stdout",
     "output_type": "stream",
     "text": [
      "We are learning python with Ammar\n",
      "15\n",
      "<class 'int'>\n",
      "<class 'str'>\n",
      "Mangoes, Oranges\n",
      "<class 'str'>\n"
     ]
    }
   ],
   "source": [
    "#Variables containing special objects\n",
    "\n",
    "# x = 5 #numeric or integer variable\n",
    "# print(x); \n",
    "\n",
    "y = \"We are learning python with Ammar\"  #string variable\n",
    "print(y);\n",
    "\n",
    "#var x = x + 10; \n",
    "x =15\n",
    "print(x);\n",
    "\n",
    "# types/class of variables\n",
    "type(x)\n",
    "print(type(x))\n",
    "\n",
    "print(type(y))\n",
    "\n",
    "# Rules to assign a variable\n",
    "# 1- the varibale should contain letters, numbers or underscores\n",
    "# 2- Donot start with Numbers\n",
    "# 3- Spaces are not allowed\n",
    "# 4- Do not use keyword used in functions (break, mean, median)\n",
    "# 5- Short and descriptive\n",
    "# 6- Case sentitivity (Lowercase, upper case letter should be used)\n",
    "\n",
    "fruits_basket = \"Mangoes, Oranges\"\n",
    "# fruits_basket = 15\n",
    "print(fruits_basket)\n",
    "print(type(fruits_basket))"
   ]
  },
  {
   "cell_type": "markdown",
   "id": "9d7776b8",
   "metadata": {},
   "source": [
    "**5 - Input Variables**"
   ]
  },
  {
   "cell_type": "code",
   "execution_count": null,
   "id": "6332fe54",
   "metadata": {},
   "outputs": [],
   "source": [
    "# fruits_basket = \"Mangoes\"\n",
    "# print(fruits_basket)\n",
    "\n",
    "# fruit_basket = input(\"What is your favourtie fruits?\")\n",
    "# print(fruit_basket)\n",
    "\n",
    "# name = input(\"What is your name? \")\n",
    "# greetings = \"Hello!\"\n",
    "# print(greetings,name)\n",
    "\n",
    "# name = input(\"What is your name? \")\n",
    "# print(\"Hello!\",name)\n",
    "\n",
    "name = input(\"What is your name? \")\n",
    "age = input(\"What's your age? \")\n",
    "print(\"Hello!\",name, \"You are still young\")"
   ]
  },
  {
   "cell_type": "markdown",
   "id": "e1d47c0a",
   "metadata": {},
   "source": [
    "**6 - Conditional Logic**"
   ]
  },
  {
   "cell_type": "code",
   "execution_count": null,
   "id": "794083f0",
   "metadata": {},
   "outputs": [],
   "source": [
    "# Logical operators are either \"true or false\" or \"yes or no\" or 0 or 1\n",
    "# equal to ==\n",
    "# not equal to !=\n",
    "# less than <\n",
    "# greater than >\n",
    "# less than equal to <=\n",
    "# greater than equal to >=\n",
    "\n",
    "age_at_school = 5\n",
    "hammad_age = input(\"how old is hammad?\")\n",
    "hammad_age = int(hammad_age)\n",
    "print(type(hammad_age))\n",
    "print(hammad_age == age_at_school)"
   ]
  },
  {
   "cell_type": "markdown",
   "id": "f5e9860f",
   "metadata": {},
   "source": [
    "**7 - Type Conversion**"
   ]
  },
  {
   "cell_type": "code",
   "execution_count": null,
   "id": "128071a7",
   "metadata": {},
   "outputs": [],
   "source": [
    "x = 10 # integer\n",
    "y = 10.2 # float\n",
    "z = \"Hello\" # string\n",
    "\n",
    "# Implicit type conversion\n",
    "x = x*y \n",
    "print(type(x))\n",
    "\n",
    "# Explicit type conversion\n",
    "age = input(\"What is your age?\")\n",
    "age = int(age)\n",
    "print(type(age))"
   ]
  },
  {
   "cell_type": "markdown",
   "id": "2948afda",
   "metadata": {},
   "source": [
    "**7 - If else elif**"
   ]
  },
  {
   "cell_type": "code",
   "execution_count": null,
   "id": "f9abfa53",
   "metadata": {},
   "outputs": [],
   "source": [
    "requied_age_at_school = 3\n",
    "hammad_age = 2\n",
    "\n",
    "# question : can hammad go to school\n",
    "\n",
    "if hammad_age == requied_age_at_school:\n",
    "        print(\"Hammad can join the school\")\n",
    "elif hammad_age > requied_age_at_school:\n",
    "        print(\"Hammad can join higher secondar school\")\n",
    "elif hammad_age == 2:\n",
    "        print(\"You should take care of hammad\")\n",
    "else: \n",
    "        print(\"Hammad cannot go to school\")"
   ]
  },
  {
   "cell_type": "markdown",
   "id": "fe47f737",
   "metadata": {},
   "source": [
    "**07 - Functions**"
   ]
  },
  {
   "cell_type": "code",
   "execution_count": null,
   "id": "10cb1c49",
   "metadata": {},
   "outputs": [],
   "source": [
    "#defining a function\n",
    "\n",
    "print(\"Codenics\")\n",
    "\n",
    "#1\n",
    "# def print_codenics():\n",
    "#     print(\"We are learning with Ammar\")\n",
    "#     print(\"We are learning with Ammar\")\n",
    "#     print(\"We are learning with Ammar\")\n",
    "\n",
    "# print_codenics()\n",
    "\n",
    "# def print_codenics(text):\n",
    "#     print(text)\n",
    "#     print(text)\n",
    "#     print(text)\n",
    "\n",
    "# print_codenics(\"We are learning python with ammar in codenics youtube channel\")\n",
    "\n",
    "# def school_calcualtor(age,text):\n",
    "#     if age == 5:\n",
    "#         print(\"Hammad can join scrool\")\n",
    "#     elif age>5:\n",
    "#         print(\"Hammad can go to school\")\n",
    "#     else: \n",
    "#         print(\"Hammad is still a baby\")\n",
    "\n",
    "\n",
    "# school_calcualtor(5,\"Hammad\")\n",
    "\n",
    "\n",
    "def future_age(age):\n",
    "    new_age = age + 20\n",
    "    return new_age\n",
    "    print(new_age)\n",
    "\n",
    "\n",
    "future_pred_date = future_age(18)\n",
    "print(future_pred_date)\n"
   ]
  },
  {
   "cell_type": "markdown",
   "id": "31fd86cb",
   "metadata": {},
   "source": [
    "**08- Loops**"
   ]
  },
  {
   "cell_type": "code",
   "execution_count": null,
   "id": "73b20b37",
   "metadata": {},
   "outputs": [],
   "source": [
    "#while and For Loops\n",
    "    #while\n",
    "\n",
    "# x = 0 \n",
    "# while (x<5):\n",
    "#     print(x)\n",
    "#     x=x+1\n",
    "\n",
    "# for loop\n",
    "\n",
    "# for x in range(4,11):\n",
    "#     print(x)\n",
    "\n",
    "days = [\"Mon\",\"Tue\",\"Wed\",\"Thr\",\"Fri\",\"Sat\",\"Sun\"]\n",
    "\n",
    "for d in days:\n",
    "    # if (d==\"Fri\"):break # loop stops\n",
    "    if (d==\"Fri\"):continue # skips d\n",
    "    print(d)"
   ]
  },
  {
   "cell_type": "markdown",
   "id": "cf0e9042",
   "metadata": {},
   "source": [
    "**09- Import Libraries**"
   ]
  },
  {
   "cell_type": "code",
   "execution_count": null,
   "id": "ee0febfc",
   "metadata": {},
   "outputs": [],
   "source": [
    "#if you want to print the values of pi\n",
    "\n",
    "import math\n",
    "print(\"The value of pi is \",math.pi)\n",
    "\n",
    "import statistics\n",
    "x = [150,250,350,450]\n",
    "\n",
    "print(statistics.mean(x))\n",
    "\n",
    "# numpy, pandas\n"
   ]
  },
  {
   "cell_type": "code",
   "execution_count": null,
   "id": "5ce74340",
   "metadata": {},
   "outputs": [],
   "source": []
  },
  {
   "cell_type": "code",
   "execution_count": null,
   "id": "23a66da5",
   "metadata": {},
   "outputs": [],
   "source": []
  }
 ],
 "metadata": {
  "kernelspec": {
   "display_name": "Python 3 (ipykernel)",
   "language": "python",
   "name": "python3"
  },
  "language_info": {
   "codemirror_mode": {
    "name": "ipython",
    "version": 3
   },
   "file_extension": ".py",
   "mimetype": "text/x-python",
   "name": "python",
   "nbconvert_exporter": "python",
   "pygments_lexer": "ipython3",
   "version": "3.10.9"
  }
 },
 "nbformat": 4,
 "nbformat_minor": 5
}
